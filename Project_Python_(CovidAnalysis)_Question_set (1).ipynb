{
 "cells": [
  {
   "cell_type": "markdown",
   "id": "8db0e14f",
   "metadata": {},
   "source": [
    "# 1.Understanding the Data:"
   ]
  },
  {
   "cell_type": "markdown",
   "id": "a316f235",
   "metadata": {},
   "source": [
    "Import necessary libraries (e.g., pandas, matplotlib, seaborn).<br>\n",
    "Load the COVID-19 dataset.<br>\n",
    "Display basic information about the dataset (e.g., data types, missing values).<br>"
   ]
  },
  {
   "cell_type": "code",
   "execution_count": 3,
   "id": "09fd4d1b",
   "metadata": {
    "scrolled": true
   },
   "outputs": [],
   "source": [
    "# load required libraries/modules\n",
    "\n",
    "import pandas as pd\n",
    "\n",
    "# Load the dataset\n",
    "\n",
    "# Display basic information about the datasset\n"
   ]
  },
  {
   "cell_type": "code",
   "execution_count": 5,
   "id": "42f0e8cd-f8dd-4bca-8cc1-d4ec8919c063",
   "metadata": {},
   "outputs": [
    {
     "data": {
      "text/html": [
       "<div>\n",
       "<style scoped>\n",
       "    .dataframe tbody tr th:only-of-type {\n",
       "        vertical-align: middle;\n",
       "    }\n",
       "\n",
       "    .dataframe tbody tr th {\n",
       "        vertical-align: top;\n",
       "    }\n",
       "\n",
       "    .dataframe thead th {\n",
       "        text-align: right;\n",
       "    }\n",
       "</style>\n",
       "<table border=\"1\" class=\"dataframe\">\n",
       "  <thead>\n",
       "    <tr style=\"text-align: right;\">\n",
       "      <th></th>\n",
       "      <th>SNo</th>\n",
       "      <th>ObservationDate</th>\n",
       "      <th>Province/State</th>\n",
       "      <th>Country/Region</th>\n",
       "      <th>Last Update</th>\n",
       "      <th>Confirmed</th>\n",
       "      <th>Deaths</th>\n",
       "      <th>Recovered</th>\n",
       "    </tr>\n",
       "  </thead>\n",
       "  <tbody>\n",
       "    <tr>\n",
       "      <th>0</th>\n",
       "      <td>1</td>\n",
       "      <td>01/22/2020</td>\n",
       "      <td>Anhui</td>\n",
       "      <td>Mainland China</td>\n",
       "      <td>1/22/2020 17:00</td>\n",
       "      <td>1.0</td>\n",
       "      <td>0.0</td>\n",
       "      <td>0.0</td>\n",
       "    </tr>\n",
       "    <tr>\n",
       "      <th>1</th>\n",
       "      <td>2</td>\n",
       "      <td>01/22/2020</td>\n",
       "      <td>Beijing</td>\n",
       "      <td>Mainland China</td>\n",
       "      <td>1/22/2020 17:00</td>\n",
       "      <td>14.0</td>\n",
       "      <td>0.0</td>\n",
       "      <td>0.0</td>\n",
       "    </tr>\n",
       "    <tr>\n",
       "      <th>2</th>\n",
       "      <td>3</td>\n",
       "      <td>01/22/2020</td>\n",
       "      <td>Chongqing</td>\n",
       "      <td>Mainland China</td>\n",
       "      <td>1/22/2020 17:00</td>\n",
       "      <td>6.0</td>\n",
       "      <td>0.0</td>\n",
       "      <td>0.0</td>\n",
       "    </tr>\n",
       "    <tr>\n",
       "      <th>3</th>\n",
       "      <td>4</td>\n",
       "      <td>01/22/2020</td>\n",
       "      <td>Fujian</td>\n",
       "      <td>Mainland China</td>\n",
       "      <td>1/22/2020 17:00</td>\n",
       "      <td>1.0</td>\n",
       "      <td>0.0</td>\n",
       "      <td>0.0</td>\n",
       "    </tr>\n",
       "    <tr>\n",
       "      <th>4</th>\n",
       "      <td>5</td>\n",
       "      <td>01/22/2020</td>\n",
       "      <td>Gansu</td>\n",
       "      <td>Mainland China</td>\n",
       "      <td>1/22/2020 17:00</td>\n",
       "      <td>0.0</td>\n",
       "      <td>0.0</td>\n",
       "      <td>0.0</td>\n",
       "    </tr>\n",
       "    <tr>\n",
       "      <th>...</th>\n",
       "      <td>...</td>\n",
       "      <td>...</td>\n",
       "      <td>...</td>\n",
       "      <td>...</td>\n",
       "      <td>...</td>\n",
       "      <td>...</td>\n",
       "      <td>...</td>\n",
       "      <td>...</td>\n",
       "    </tr>\n",
       "    <tr>\n",
       "      <th>306424</th>\n",
       "      <td>306425</td>\n",
       "      <td>05/29/2021</td>\n",
       "      <td>Zaporizhia Oblast</td>\n",
       "      <td>Ukraine</td>\n",
       "      <td>2021-05-30 04:20:55</td>\n",
       "      <td>102641.0</td>\n",
       "      <td>2335.0</td>\n",
       "      <td>95289.0</td>\n",
       "    </tr>\n",
       "    <tr>\n",
       "      <th>306425</th>\n",
       "      <td>306426</td>\n",
       "      <td>05/29/2021</td>\n",
       "      <td>Zeeland</td>\n",
       "      <td>Netherlands</td>\n",
       "      <td>2021-05-30 04:20:55</td>\n",
       "      <td>29147.0</td>\n",
       "      <td>245.0</td>\n",
       "      <td>0.0</td>\n",
       "    </tr>\n",
       "    <tr>\n",
       "      <th>306426</th>\n",
       "      <td>306427</td>\n",
       "      <td>05/29/2021</td>\n",
       "      <td>Zhejiang</td>\n",
       "      <td>Mainland China</td>\n",
       "      <td>2021-05-30 04:20:55</td>\n",
       "      <td>1364.0</td>\n",
       "      <td>1.0</td>\n",
       "      <td>1324.0</td>\n",
       "    </tr>\n",
       "    <tr>\n",
       "      <th>306427</th>\n",
       "      <td>306428</td>\n",
       "      <td>05/29/2021</td>\n",
       "      <td>Zhytomyr Oblast</td>\n",
       "      <td>Ukraine</td>\n",
       "      <td>2021-05-30 04:20:55</td>\n",
       "      <td>87550.0</td>\n",
       "      <td>1738.0</td>\n",
       "      <td>83790.0</td>\n",
       "    </tr>\n",
       "    <tr>\n",
       "      <th>306428</th>\n",
       "      <td>306429</td>\n",
       "      <td>05/29/2021</td>\n",
       "      <td>Zuid-Holland</td>\n",
       "      <td>Netherlands</td>\n",
       "      <td>2021-05-30 04:20:55</td>\n",
       "      <td>391559.0</td>\n",
       "      <td>4252.0</td>\n",
       "      <td>0.0</td>\n",
       "    </tr>\n",
       "  </tbody>\n",
       "</table>\n",
       "<p>306429 rows × 8 columns</p>\n",
       "</div>"
      ],
      "text/plain": [
       "           SNo ObservationDate     Province/State  Country/Region  \\\n",
       "0            1      01/22/2020              Anhui  Mainland China   \n",
       "1            2      01/22/2020            Beijing  Mainland China   \n",
       "2            3      01/22/2020          Chongqing  Mainland China   \n",
       "3            4      01/22/2020             Fujian  Mainland China   \n",
       "4            5      01/22/2020              Gansu  Mainland China   \n",
       "...        ...             ...                ...             ...   \n",
       "306424  306425      05/29/2021  Zaporizhia Oblast         Ukraine   \n",
       "306425  306426      05/29/2021            Zeeland     Netherlands   \n",
       "306426  306427      05/29/2021           Zhejiang  Mainland China   \n",
       "306427  306428      05/29/2021    Zhytomyr Oblast         Ukraine   \n",
       "306428  306429      05/29/2021       Zuid-Holland     Netherlands   \n",
       "\n",
       "                Last Update  Confirmed  Deaths  Recovered  \n",
       "0           1/22/2020 17:00        1.0     0.0        0.0  \n",
       "1           1/22/2020 17:00       14.0     0.0        0.0  \n",
       "2           1/22/2020 17:00        6.0     0.0        0.0  \n",
       "3           1/22/2020 17:00        1.0     0.0        0.0  \n",
       "4           1/22/2020 17:00        0.0     0.0        0.0  \n",
       "...                     ...        ...     ...        ...  \n",
       "306424  2021-05-30 04:20:55   102641.0  2335.0    95289.0  \n",
       "306425  2021-05-30 04:20:55    29147.0   245.0        0.0  \n",
       "306426  2021-05-30 04:20:55     1364.0     1.0     1324.0  \n",
       "306427  2021-05-30 04:20:55    87550.0  1738.0    83790.0  \n",
       "306428  2021-05-30 04:20:55   391559.0  4252.0        0.0  \n",
       "\n",
       "[306429 rows x 8 columns]"
      ]
     },
     "execution_count": 5,
     "metadata": {},
     "output_type": "execute_result"
    }
   ],
   "source": [
    "df=pd.read_csv(r\"C:\\Users\\hp\\Documents\\eshika\\covid_19_data.csv\")\n",
    "df"
   ]
  },
  {
   "cell_type": "code",
   "execution_count": 5,
   "id": "08688a5d-72a7-428e-b480-e8662889b8f6",
   "metadata": {},
   "outputs": [
    {
     "name": "stdout",
     "output_type": "stream",
     "text": [
      "<class 'pandas.core.frame.DataFrame'>\n",
      "RangeIndex: 306429 entries, 0 to 306428\n",
      "Data columns (total 8 columns):\n",
      " #   Column           Non-Null Count   Dtype  \n",
      "---  ------           --------------   -----  \n",
      " 0   SNo              306429 non-null  int64  \n",
      " 1   ObservationDate  306429 non-null  object \n",
      " 2   Province/State   228326 non-null  object \n",
      " 3   Country/Region   306429 non-null  object \n",
      " 4   Last Update      306429 non-null  object \n",
      " 5   Confirmed        306429 non-null  float64\n",
      " 6   Deaths           306429 non-null  float64\n",
      " 7   Recovered        306429 non-null  float64\n",
      "dtypes: float64(3), int64(1), object(4)\n",
      "memory usage: 18.7+ MB\n"
     ]
    }
   ],
   "source": [
    "# Display basic information about the datasset\n",
    "\n",
    "df.info()"
   ]
  },
  {
   "cell_type": "code",
   "execution_count": 23,
   "id": "69ef61c3-d62d-4ada-a184-d13f743612fc",
   "metadata": {},
   "outputs": [
    {
     "data": {
      "text/plain": [
       "Index(['SNo', 'ObservationDate', 'Province/State', 'Country/Region',\n",
       "       'Last Update', 'Confirmed', 'Deaths', 'Recovered'],\n",
       "      dtype='object')"
      ]
     },
     "execution_count": 23,
     "metadata": {},
     "output_type": "execute_result"
    }
   ],
   "source": [
    "df.columns"
   ]
  },
  {
   "cell_type": "code",
   "execution_count": 27,
   "id": "386108ab-bd08-45b1-8334-26ab5a8a8c1e",
   "metadata": {},
   "outputs": [
    {
     "data": {
      "text/plain": [
       "(306429, 8)"
      ]
     },
     "execution_count": 27,
     "metadata": {},
     "output_type": "execute_result"
    }
   ],
   "source": [
    "df.shape"
   ]
  },
  {
   "cell_type": "code",
   "execution_count": 61,
   "id": "e6a114f3-d227-4c46-b393-893216d6815d",
   "metadata": {},
   "outputs": [],
   "source": [
    "cat=[]\n",
    "con=[]\n",
    "\n",
    "for i in df.columns:\n",
    "  if df[i].dtypes==\"object\":\n",
    "    cat.append(i)\n",
    "  else:\n",
    "    con.append(i)"
   ]
  },
  {
   "cell_type": "code",
   "execution_count": 54,
   "id": "a1c27c73-3786-49dd-964e-216215e0da37",
   "metadata": {},
   "outputs": [
    {
     "data": {
      "text/plain": [
       "['ObservationDate', 'Province/State', 'Country/Region', 'Last Update']"
      ]
     },
     "execution_count": 54,
     "metadata": {},
     "output_type": "execute_result"
    }
   ],
   "source": [
    "cat"
   ]
  },
  {
   "cell_type": "code",
   "execution_count": 56,
   "id": "848c0089-42bd-4033-bf5e-1e8bb7687f16",
   "metadata": {},
   "outputs": [
    {
     "data": {
      "text/plain": [
       "['SNo', 'Confirmed', 'Deaths', 'Recovered']"
      ]
     },
     "execution_count": 56,
     "metadata": {},
     "output_type": "execute_result"
    }
   ],
   "source": [
    "con"
   ]
  },
  {
   "cell_type": "markdown",
   "id": "5189d6f0",
   "metadata": {},
   "source": [
    "# 2. Data Cleaning:"
   ]
  },
  {
   "cell_type": "code",
   "execution_count": null,
   "id": "78d8dd02",
   "metadata": {},
   "outputs": [],
   "source": [
    "Handle missing values.\n",
    "Convert data types if necessary.\n",
    "Check for duplicates."
   ]
  },
  {
   "cell_type": "code",
   "execution_count": 51,
   "id": "826f034a",
   "metadata": {},
   "outputs": [
    {
     "data": {
      "text/plain": [
       "SNo                    0\n",
       "ObservationDate        0\n",
       "Province/State     78103\n",
       "Country/Region         0\n",
       "Last Update            0\n",
       "Confirmed              0\n",
       "Deaths                 0\n",
       "Recovered              0\n",
       "dtype: int64"
      ]
     },
     "execution_count": 51,
     "metadata": {},
     "output_type": "execute_result"
    }
   ],
   "source": [
    "# Handle missing values\n",
    "\n",
    "df.isnull().sum()\n",
    "\n",
    "# Convert data types if necessary ( ObservationDate    datetime64[ns]) change to datetime\n",
    "\n",
    "# df['ObservationDate'] = pd.to_datetime(df['ObservationDate'])\n",
    "\n",
    "# Check for duplicates\n"
   ]
  },
  {
   "cell_type": "code",
   "execution_count": 7,
   "id": "7b4a14a5-fda3-479a-806f-0422f15d331e",
   "metadata": {},
   "outputs": [],
   "source": [
    "df['ObservationDate'] = pd.to_datetime(df['ObservationDate'])"
   ]
  },
  {
   "cell_type": "code",
   "execution_count": null,
   "id": "c5bae101-760b-4bf2-9cd1-c9f22e0f00a2",
   "metadata": {},
   "outputs": [],
   "source": [
    "# print(\"Number of duplicates:\", df.duplicated().sum())"
   ]
  },
  {
   "cell_type": "code",
   "execution_count": 35,
   "id": "9bfc08f0-19e9-4847-86db-c5d18aa46ad5",
   "metadata": {},
   "outputs": [
    {
     "data": {
      "text/plain": [
       "0"
      ]
     },
     "execution_count": 35,
     "metadata": {},
     "output_type": "execute_result"
    }
   ],
   "source": [
    "df.duplicated().sum()"
   ]
  },
  {
   "cell_type": "markdown",
   "id": "004e0e00",
   "metadata": {},
   "source": [
    "# 3. Descriptive Statistics:"
   ]
  },
  {
   "cell_type": "markdown",
   "id": "bbed810e",
   "metadata": {},
   "source": [
    "Generate descriptive statistics (mean, median, min, max) for numeric columns.<br>\n",
    "Explore summary statistics for categorical columns."
   ]
  },
  {
   "cell_type": "code",
   "execution_count": 107,
   "id": "72237306",
   "metadata": {},
   "outputs": [
    {
     "data": {
      "text/plain": [
       "['ObservationDate', 'Province/State', 'Country/Region', 'Last Update']"
      ]
     },
     "execution_count": 107,
     "metadata": {},
     "output_type": "execute_result"
    }
   ],
   "source": [
    "# Descriptive statistics\n",
    "cat"
   ]
  },
  {
   "cell_type": "code",
   "execution_count": 109,
   "id": "e7703798-8211-4a77-b8b6-c11f95feb534",
   "metadata": {},
   "outputs": [
    {
     "data": {
      "text/html": [
       "<div>\n",
       "<style scoped>\n",
       "    .dataframe tbody tr th:only-of-type {\n",
       "        vertical-align: middle;\n",
       "    }\n",
       "\n",
       "    .dataframe tbody tr th {\n",
       "        vertical-align: top;\n",
       "    }\n",
       "\n",
       "    .dataframe thead th {\n",
       "        text-align: right;\n",
       "    }\n",
       "</style>\n",
       "<table border=\"1\" class=\"dataframe\">\n",
       "  <thead>\n",
       "    <tr style=\"text-align: right;\">\n",
       "      <th></th>\n",
       "      <th>SNo</th>\n",
       "      <th>Confirmed</th>\n",
       "      <th>Deaths</th>\n",
       "      <th>Recovered</th>\n",
       "    </tr>\n",
       "  </thead>\n",
       "  <tbody>\n",
       "    <tr>\n",
       "      <th>count</th>\n",
       "      <td>306429.000000</td>\n",
       "      <td>3.064290e+05</td>\n",
       "      <td>306429.000000</td>\n",
       "      <td>3.064290e+05</td>\n",
       "    </tr>\n",
       "    <tr>\n",
       "      <th>mean</th>\n",
       "      <td>153215.000000</td>\n",
       "      <td>8.567091e+04</td>\n",
       "      <td>2036.403268</td>\n",
       "      <td>5.042029e+04</td>\n",
       "    </tr>\n",
       "    <tr>\n",
       "      <th>std</th>\n",
       "      <td>88458.577156</td>\n",
       "      <td>2.775516e+05</td>\n",
       "      <td>6410.938048</td>\n",
       "      <td>2.015124e+05</td>\n",
       "    </tr>\n",
       "    <tr>\n",
       "      <th>min</th>\n",
       "      <td>1.000000</td>\n",
       "      <td>-3.028440e+05</td>\n",
       "      <td>-178.000000</td>\n",
       "      <td>-8.544050e+05</td>\n",
       "    </tr>\n",
       "    <tr>\n",
       "      <th>25%</th>\n",
       "      <td>76608.000000</td>\n",
       "      <td>1.042000e+03</td>\n",
       "      <td>13.000000</td>\n",
       "      <td>1.100000e+01</td>\n",
       "    </tr>\n",
       "    <tr>\n",
       "      <th>50%</th>\n",
       "      <td>153215.000000</td>\n",
       "      <td>1.037500e+04</td>\n",
       "      <td>192.000000</td>\n",
       "      <td>1.751000e+03</td>\n",
       "    </tr>\n",
       "    <tr>\n",
       "      <th>75%</th>\n",
       "      <td>229822.000000</td>\n",
       "      <td>5.075200e+04</td>\n",
       "      <td>1322.000000</td>\n",
       "      <td>2.027000e+04</td>\n",
       "    </tr>\n",
       "    <tr>\n",
       "      <th>max</th>\n",
       "      <td>306429.000000</td>\n",
       "      <td>5.863138e+06</td>\n",
       "      <td>112385.000000</td>\n",
       "      <td>6.399531e+06</td>\n",
       "    </tr>\n",
       "  </tbody>\n",
       "</table>\n",
       "</div>"
      ],
      "text/plain": [
       "                 SNo     Confirmed         Deaths     Recovered\n",
       "count  306429.000000  3.064290e+05  306429.000000  3.064290e+05\n",
       "mean   153215.000000  8.567091e+04    2036.403268  5.042029e+04\n",
       "std     88458.577156  2.775516e+05    6410.938048  2.015124e+05\n",
       "min         1.000000 -3.028440e+05    -178.000000 -8.544050e+05\n",
       "25%     76608.000000  1.042000e+03      13.000000  1.100000e+01\n",
       "50%    153215.000000  1.037500e+04     192.000000  1.751000e+03\n",
       "75%    229822.000000  5.075200e+04    1322.000000  2.027000e+04\n",
       "max    306429.000000  5.863138e+06  112385.000000  6.399531e+06"
      ]
     },
     "execution_count": 109,
     "metadata": {},
     "output_type": "execute_result"
    }
   ],
   "source": [
    "df.describe()"
   ]
  },
  {
   "cell_type": "code",
   "execution_count": null,
   "id": "202d367b-35ce-4e21-8d7c-1f1f88b212d9",
   "metadata": {},
   "outputs": [],
   "source": [
    "# summary statistics for categorical columns"
   ]
  },
  {
   "cell_type": "code",
   "execution_count": 5,
   "id": "cad5a9e0-9f92-4db9-9278-f6fc6ff144c4",
   "metadata": {},
   "outputs": [
    {
     "data": {
      "text/plain": [
       "ObservationDate                        12/31/2020\n",
       "Country/Region     occupied Palestinian territory\n",
       "Last Update                           4/6/20 9:37\n",
       "dtype: object"
      ]
     },
     "execution_count": 5,
     "metadata": {},
     "output_type": "execute_result"
    }
   ],
   "source": [
    "df[[\"ObservationDate\", \"Country/Region\",\"Last Update\"]].max()"
   ]
  },
  {
   "cell_type": "code",
   "execution_count": 11,
   "id": "c2bd6345-3c63-408d-a16b-ad87b1ec9646",
   "metadata": {},
   "outputs": [
    {
     "data": {
      "text/plain": [
       "ObservationDate         01/01/2021\n",
       "Country/Region          Azerbaijan\n",
       "Last Update        1/22/2020 17:00\n",
       "dtype: object"
      ]
     },
     "execution_count": 11,
     "metadata": {},
     "output_type": "execute_result"
    }
   ],
   "source": [
    "df[[\"ObservationDate\", \"Country/Region\",\"Last Update\"]].min()"
   ]
  },
  {
   "cell_type": "markdown",
   "id": "39872389",
   "metadata": {},
   "source": [
    "# 4. Time Series Analysis:"
   ]
  },
  {
   "cell_type": "markdown",
   "id": "e2e355d2",
   "metadata": {},
   "source": [
    "Analyze the trends in confirmed, deaths, and recovered cases over time.<br>\n",
    "Create time-based visualizations."
   ]
  },
  {
   "cell_type": "code",
   "execution_count": 7,
   "id": "a74a66fd",
   "metadata": {},
   "outputs": [],
   "source": [
    "# Time series analysis\n",
    "# groupby 'ObservationDate' and apply aggregation functions like sum on deaths,confirmed ,recovered \n",
    "# df_time = df.groupby('ObservationDate').agg({'Confirmed': 'sum', 'Deaths': 'sum', 'Recovered': 'sum'})\n",
    "\n",
    "# Plot time series data using line plot\n",
    "# syntax: \n",
    "#sns.lineplot(data=df_time, x='ObservationDate', y='Confirmed', label='Confirmed')\n",
    "# sns.lineplot(data=df_time, x='ObservationDate', y='Deaths', label='Deaths')\n",
    "\n",
    "import matplotlib.pyplot as plt\n",
    "import seaborn as sns\n",
    "\n",
    "\n"
   ]
  },
  {
   "cell_type": "code",
   "execution_count": 42,
   "id": "f610fd9a-b662-40d1-aa55-6df4e348726f",
   "metadata": {},
   "outputs": [
    {
     "name": "stdout",
     "output_type": "stream",
     "text": [
      "                  Confirmed     Deaths   Recovered\n",
      "ObservationDate                                   \n",
      "01/01/2021       84092619.0  1834675.0  47313005.0\n",
      "01/02/2021       84718978.0  1843108.0  47614297.0\n",
      "01/03/2021       85251774.0  1850449.0  47882779.0\n",
      "01/04/2021       85805892.0  1860598.0  48173187.0\n",
      "01/05/2021       86546014.0  1875953.0  48488548.0\n",
      "...                     ...        ...         ...\n",
      "12/27/2020       80912611.0  1771659.0  45717710.0\n",
      "12/28/2020       81408934.0  1781415.0  46016136.0\n",
      "12/29/2020       82073362.0  1796786.0  46369231.0\n",
      "12/30/2020       82834592.0  1811843.0  46757476.0\n",
      "12/31/2020       83559601.0  1825012.0  47032627.0\n",
      "\n",
      "[494 rows x 3 columns]\n"
     ]
    }
   ],
   "source": [
    "df_time = df.groupby('ObservationDate').agg({'Confirmed': 'sum', 'Deaths': 'sum', 'Recovered': 'sum'})\n",
    "print(df_time)\n"
   ]
  },
  {
   "cell_type": "code",
   "execution_count": null,
   "id": "eb749163-b239-4ba4-8a5b-1091a4124b0b",
   "metadata": {},
   "outputs": [],
   "source": [
    "# Plot time series data using line plot\n",
    "# syntax: \n",
    "#sns.lineplot(data=df_time, x='ObservationDate', y='Confirmed', label='Confirmed')"
   ]
  },
  {
   "cell_type": "code",
   "execution_count": 44,
   "id": "e13e68ee-41c9-4245-a07e-31e460e2f5b5",
   "metadata": {},
   "outputs": [
    {
     "data": {
      "text/plain": [
       "<Axes: xlabel='ObservationDate', ylabel='Confirmed'>"
      ]
     },
     "execution_count": 44,
     "metadata": {},
     "output_type": "execute_result"
    },
    {
     "data": {
      "image/png": "[encoded data removed]",
      "text/plain": [
       "<Figure size 640x480 with 1 Axes>"
      ]
     },
     "metadata": {},
     "output_type": "display_data"
    }
   ],
   "source": [
    "sns.lineplot(data=df_time, x='ObservationDate', y='Confirmed', label='Confirmed')"
   ]
  },
  {
   "cell_type": "code",
   "execution_count": 46,
   "id": "c8bfe43e-8af0-43f1-bb48-f200d95d50e4",
   "metadata": {},
   "outputs": [
    {
     "data": {
      "text/plain": [
       "<Axes: xlabel='ObservationDate', ylabel='Deaths'>"
      ]
     },
     "execution_count": 46,
     "metadata": {},
     "output_type": "execute_result"
    },
    {
     "data": {
      "image/png": "[encoded data removed]",
      "text/plain": [
       "<Figure size 640x480 with 1 Axes>"
      ]
     },
     "metadata": {},
     "output_type": "display_data"
    }
   ],
   "source": [
    "sns.lineplot(data=df_time, x='ObservationDate', y='Deaths', label='Deaths')"
   ]
  },
  {
   "cell_type": "markdown",
   "id": "a7d087b3",
   "metadata": {},
   "source": [
    "# 5. Geographical Analysis:"
   ]
  },
  {
   "cell_type": "markdown",
   "id": "647f69a1",
   "metadata": {},
   "source": [
    "Analyze the distribution of cases across different countries/regions.<br>\n",
    "Create geographical visualizations (e.g., world map)."
   ]
  },
  {
   "cell_type": "code",
   "execution_count": null,
   "id": "0def7145",
   "metadata": {},
   "outputs": [],
   "source": [
    "# Geographical analysis\n",
    "# df_country = df.groupby('Country/Region').agg({'Confirmed': 'sum', 'Deaths': 'sum', 'Recovered': 'sum'})\n",
    "\n",
    "# Plot geographical data\n",
    "# sns.barplot(x=df_country.index, y='Confirmed', data=df_country)\n",
    "\n"
   ]
  },
  {
   "cell_type": "code",
   "execution_count": 36,
   "id": "9a6d896a-382e-4885-9cde-0055a2d97473",
   "metadata": {},
   "outputs": [
    {
     "name": "stdout",
     "output_type": "stream",
     "text": [
      "                                 Confirmed    Deaths   Recovered\n",
      "Country/Region                                                  \n",
      " Azerbaijan                            1.0       0.0         0.0\n",
      "('St. Martin',)                        2.0       0.0         0.0\n",
      "Afghanistan                     17026442.0  669075.0  13464399.0\n",
      "Albania                         19768869.0  375955.0  13945256.0\n",
      "Algeria                         27684358.0  834464.0  18959299.0\n",
      "...                                    ...       ...         ...\n",
      "West Bank and Gaza              41819444.0  440378.0  37003116.0\n",
      "Yemen                             962066.0  237613.0    506523.0\n",
      "Zambia                          13493953.0  205990.0  12625626.0\n",
      "Zimbabwe                         6484581.0  237234.0   5594887.0\n",
      "occupied Palestinian territory        25.0       0.0         0.0\n",
      "\n",
      "[229 rows x 3 columns]\n"
     ]
    }
   ],
   "source": [
    "df_country = df.groupby('Country/Region').agg({'Confirmed': 'sum', 'Deaths': 'sum', 'Recovered': 'sum'})\n",
    "print(df_country)"
   ]
  },
  {
   "cell_type": "code",
   "execution_count": 40,
   "id": "c973d02c-2952-41ad-b25d-18bc9eecb182",
   "metadata": {},
   "outputs": [
    {
     "data": {
      "text/plain": [
       "<Axes: xlabel='Country/Region', ylabel='Confirmed'>"
      ]
     },
     "execution_count": 40,
     "metadata": {},
     "output_type": "execute_result"
    },
    {
     "data": {
      "image/png": "[encoded data removed]",
      "text/plain": [
       "<Figure size 640x480 with 1 Axes>"
      ]
     },
     "metadata": {},
     "output_type": "display_data"
    }
   ],
   "source": [
    "sns.barplot(x=df_country.index, y='Confirmed', data=df_country)"
   ]
  },
  {
   "cell_type": "markdown",
   "id": "0271decc",
   "metadata": {},
   "source": [
    "# 6. Correlation Analysis:"
   ]
  },
  {
   "cell_type": "markdown",
   "id": "74cf06f2",
   "metadata": {},
   "source": [
    "Examine the correlation between different numeric variables."
   ]
  },
  {
   "cell_type": "code",
   "execution_count": null,
   "id": "c3c2f128",
   "metadata": {},
   "outputs": [],
   "source": [
    "# Correlation analysis between confirmed,deaths and recover\n",
    "#plt.scatter(df['confirmed'],df['Deaths'],df['Recovered'])\n",
    "\n",
    "correlation=df[['Confirmed','Deaths','Recovered']].corr()\n",
    "correlation\n",
    "\n",
    "\n",
    "# Plot correlation on heat map\n"
   ]
  },
  {
   "cell_type": "code",
   "execution_count": 13,
   "id": "c266a5cd-b7b3-447a-83ee-066302984d9d",
   "metadata": {},
   "outputs": [
    {
     "name": "stderr",
     "output_type": "stream",
     "text": [
      "C:\\Users\\hp\\anaconda3\\Lib\\site-packages\\matplotlib\\collections.py:996: RuntimeWarning: invalid value encountered in sqrt\n",
      "  scale = np.sqrt(self._sizes) * dpi / 72.0 * self._factor\n"
     ]
    },
    {
     "data": {
      "text/plain": [
       "<matplotlib.collections.PathCollection at 0x24dd66eac30>"
      ]
     },
     "execution_count": 13,
     "metadata": {},
     "output_type": "execute_result"
    },
    {
     "data": {
      "image/png": "[encoded data removed]",
      "text/plain": [
       "<Figure size 640x480 with 1 Axes>"
      ]
     },
     "metadata": {},
     "output_type": "display_data"
    }
   ],
   "source": [
    "plt.scatter(df['Confirmed'],df['Deaths'],df['Recovered'])"
   ]
  },
  {
   "cell_type": "code",
   "execution_count": 49,
   "id": "1e1ca05a-72be-4b7e-9f23-f23d9d3bcbca",
   "metadata": {},
   "outputs": [
    {
     "data": {
      "text/plain": [
       "Index(['Confirmed', 'Deaths', 'Recovered'], dtype='object')"
      ]
     },
     "execution_count": 49,
     "metadata": {},
     "output_type": "execute_result"
    }
   ],
   "source": [
    "correlation.columns"
   ]
  },
  {
   "cell_type": "code",
   "execution_count": 11,
   "id": "30591fa3-2cae-4076-a1a2-56ecc50c6c73",
   "metadata": {},
   "outputs": [
    {
     "data": {
      "image/png": "[encoded data removed]",
      "text/plain": [
       "<Figure size 640x480 with 2 Axes>"
      ]
     },
     "metadata": {},
     "output_type": "display_data"
    }
   ],
   "source": [
    "plt.imshow(correlation , cmap=\"coolwarm\" , interpolation='nearest')\n",
    "plt.colorbar()\n",
    "plt.xticks(range(len(correlation.columns)) , correlation.columns)\n",
    "plt.yticks(range(len(correlation.columns)) , correlation.columns)\n",
    "plt.show()"
   ]
  },
  {
   "cell_type": "markdown",
   "id": "31e692b2",
   "metadata": {},
   "source": [
    "# 7. Advanced Analysis:"
   ]
  },
  {
   "cell_type": "markdown",
   "id": "e8c818b9",
   "metadata": {},
   "source": [
    "Explore advanced visualizations or statistical tests based on the specific questions you want to answer."
   ]
  },
  {
   "cell_type": "code",
   "execution_count": 31,
   "id": "bc0fe4db",
   "metadata": {},
   "outputs": [
    {
     "name": "stdout",
     "output_type": "stream",
     "text": [
      "Country/Region\n",
      "China              0.000000e+00\n",
      " Azerbaijan        1.000000e+00\n",
      "Channel Islands    1.000000e+00\n",
      "East Timor         1.000000e+00\n",
      "North Ireland      1.000000e+00\n",
      "                       ...     \n",
      "France             8.551890e+08\n",
      "Russia             9.305488e+08\n",
      "Brazil             2.653588e+09\n",
      "India              3.226768e+09\n",
      "US                 6.049146e+09\n",
      "Name: Confirmed, Length: 229, dtype: float64\n"
     ]
    }
   ],
   "source": [
    "# Calculate the total number of confirmed cases, deaths, and recoveries for each country/region.\n",
    "\n",
    "cases_by_region = df.groupby('Country/Region')[\"Confirmed\"].sum().sort_values(ascending=True)\n",
    "print(cases_by_region)"
   ]
  },
  {
   "cell_type": "code",
   "execution_count": 27,
   "id": "94f46c65-72b3-467e-91e1-d715c755dd74",
   "metadata": {},
   "outputs": [
    {
     "name": "stdout",
     "output_type": "stream",
     "text": [
      "Country/Region\n",
      " Azerbaijan            0.0\n",
      "Jersey                 0.0\n",
      "Holy See               0.0\n",
      "Guernsey               0.0\n",
      "Guam                   0.0\n",
      "                  ...     \n",
      "UK              29171984.0\n",
      "Mexico          43005509.0\n",
      "India           44424723.0\n",
      "Brazil          72624610.0\n",
      "US             123303762.0\n",
      "Name: Deaths, Length: 229, dtype: float64\n"
     ]
    }
   ],
   "source": [
    "cases_by_region = df.groupby('Country/Region')[\"Deaths\"].sum().sort_values(ascending=True)\n",
    "print(cases_by_region)"
   ]
  },
  {
   "cell_type": "code",
   "execution_count": 35,
   "id": "e9bfba85-3cda-4104-9a8e-98161ac4f2f4",
   "metadata": {},
   "outputs": [
    {
     "name": "stdout",
     "output_type": "stream",
     "text": [
      "Country/Region\n",
      " Azerbaijan        0.000000e+00\n",
      "Channel Islands    0.000000e+00\n",
      "China              0.000000e+00\n",
      "Curacao            0.000000e+00\n",
      "East Timor         0.000000e+00\n",
      "                       ...     \n",
      "US                 5.033710e+08\n",
      "Turkey             5.641706e+08\n",
      "Russia             7.907057e+08\n",
      "Brazil             2.313677e+09\n",
      "India              2.900590e+09\n",
      "Name: Recovered, Length: 229, dtype: float64\n"
     ]
    }
   ],
   "source": [
    "cases_by_region = df.groupby('Country/Region')[\"Recovered\"].sum().sort_values(ascending=True)\n",
    "print(cases_by_region)"
   ]
  },
  {
   "cell_type": "code",
   "execution_count": 15,
   "id": "a3f755e8-6e2a-4190-a878-4dbb205b513f",
   "metadata": {},
   "outputs": [
    {
     "name": "stdout",
     "output_type": "stream",
     "text": [
      "Region with the max number of confirmed cases: Country/Region\n",
      "US         6.049146e+09\n",
      "India      3.226768e+09\n",
      "Brazil     2.653588e+09\n",
      "Russia     9.305488e+08\n",
      "France     8.551890e+08\n",
      "UK         7.837944e+08\n",
      "Spain      6.491118e+08\n",
      "Italy      6.366943e+08\n",
      "Turkey     6.189410e+08\n",
      "Germany    5.241668e+08\n",
      "Name: Confirmed, dtype: float64\n"
     ]
    }
   ],
   "source": [
    "# calculate the country/region with maximum number od confirmed, deaths and recovered cases\n",
    "\n",
    "# Maximum number of confirmed cases\n",
    "max_confirmed_region = df.groupby(\"Country/Region\")[\"Confirmed\"].sum().sort_values(ascending=False).head(10)\n",
    "print(\"Region with the max number of confirmed cases:\", max_confirmed_region)\n"
   ]
  },
  {
   "cell_type": "code",
   "execution_count": 17,
   "id": "6ecab358-c61d-4b94-a643-511651300a58",
   "metadata": {},
   "outputs": [
    {
     "name": "stdout",
     "output_type": "stream",
     "text": [
      "Region with the max number of death cases: Country/Region\n",
      "US        123303762.0\n",
      "Brazil     72624610.0\n",
      "India      44424723.0\n",
      "Mexico     43005509.0\n",
      "UK         29171984.0\n",
      "Italy      26000702.0\n",
      "France     22720818.0\n",
      "Spain      19065104.0\n",
      "Russia     18363719.0\n",
      "Iran       15744407.0\n",
      "Name: Deaths, dtype: float64\n"
     ]
    }
   ],
   "source": [
    "# maximum number of death cases\n",
    "max_death_region = df.groupby(\"Country/Region\")[\"Deaths\"].sum().sort_values(ascending=False).head(10)\n",
    "print(\"Region with the max number of death cases:\", max_death_region)\n"
   ]
  },
  {
   "cell_type": "code",
   "execution_count": 19,
   "id": "e5d21e55-3c51-4159-a616-e9b8589f9363",
   "metadata": {},
   "outputs": [
    {
     "name": "stdout",
     "output_type": "stream",
     "text": [
      "Region with the max number of recovered cases: Country/Region\n",
      "India        2.900590e+09\n",
      "Brazil       2.313677e+09\n",
      "Russia       7.907057e+08\n",
      "Turkey       5.641706e+08\n",
      "US           5.033710e+08\n",
      "Italy        4.877998e+08\n",
      "Colombia     4.687470e+08\n",
      "Germany      4.533833e+08\n",
      "Argentina    4.387503e+08\n",
      "Mexico       3.617802e+08\n",
      "Name: Recovered, dtype: float64\n"
     ]
    }
   ],
   "source": [
    "# maximum nember of recovered cases\n",
    "max_recovered_region = df.groupby(\"Country/Region\")[\"Recovered\"].sum().sort_values(ascending=False).head(10)\n",
    "print(\"Region with the max number of recovered cases:\", max_recovered_region)\n"
   ]
  },
  {
   "cell_type": "code",
   "execution_count": null,
   "id": "3ebdf995",
   "metadata": {},
   "outputs": [],
   "source": [
    "# Visualize the distribution of deaths using bar chart\n"
   ]
  },
  {
   "cell_type": "code",
   "execution_count": null,
   "id": "ef773675-d7e4-4ffc-8a1e-3ea23557c071",
   "metadata": {},
   "outputs": [],
   "source": [
    "plt.figure(figsize=(6,3))\n",
    "\n",
    "sns.countplot(df['Deaths'])\n",
    "sns.countplot(df['Country/Region'])\n",
    "plt.title('Distribution of deaths')\n",
    "plt.show()"
   ]
  },
  {
   "cell_type": "code",
   "execution_count": null,
   "id": "150c6751-d912-4e1a-80f5-0c6bf5d5e6b5",
   "metadata": {},
   "outputs": [],
   "source": []
  },
  {
   "cell_type": "code",
   "execution_count": 43,
   "id": "63e6cbd3-34e2-49a8-8631-593d9aa022de",
   "metadata": {},
   "outputs": [
    {
     "name": "stdout",
     "output_type": "stream",
     "text": [
      "           SNo ObservationDate Province/State Country/Region  \\\n",
      "147524  147525      11/02/2020        Unknown       Colombia   \n",
      "174862  174863      12/08/2020        Unknown             UK   \n",
      "30196    30197      05/26/2020      Recovered             US   \n",
      "259079  259080      03/29/2021            NaN       Kiribati   \n",
      "139781  139782      10/23/2020    Lakshadweep          India   \n",
      "...        ...             ...            ...            ...   \n",
      "295008  295009      05/15/2021            NaN         France   \n",
      "295773  295774      05/16/2021            NaN         France   \n",
      "296538  296539      05/17/2021            NaN         France   \n",
      "297303  297304      05/18/2021            NaN         France   \n",
      "298068  298069      05/19/2021            NaN         France   \n",
      "\n",
      "                Last Update  Confirmed    Deaths  Recovered  \n",
      "147524  2021-04-02 15:13:53  -302844.0       0.0        0.0  \n",
      "174862  2021-04-02 15:13:53        0.0       0.0        0.0  \n",
      "30196   2021-04-02 15:13:53        0.0       0.0   384902.0  \n",
      "259079  2021-04-02 15:13:53        0.0       0.0        0.0  \n",
      "139781  2021-04-02 15:13:53        0.0       0.0        0.0  \n",
      "...                     ...        ...       ...        ...  \n",
      "295008  2021-05-16 04:20:49  5811711.0  106764.0   320711.0  \n",
      "295773  2021-05-17 04:20:34  5825659.0  106845.0   321026.0  \n",
      "296538  2021-05-18 04:20:33  5829009.0  107041.0   321874.0  \n",
      "297303  2021-05-19 04:20:42  5845010.0  107256.0   323205.0  \n",
      "298068  2021-05-20 04:21:05  5863138.0  107390.0   324444.0  \n",
      "\n",
      "[306429 rows x 8 columns]\n"
     ]
    }
   ],
   "source": [
    "# Sort the entire data wrt no of confirmed cases in ascending order\n",
    "\n",
    "df_sorted_confirmed = df.sort_values(by=['Confirmed'], ascending=True)\n",
    "print(df_sorted_confirmed)"
   ]
  },
  {
   "cell_type": "code",
   "execution_count": 45,
   "id": "13fc745c-82d3-4a3f-b5f7-48c7a1bd560c",
   "metadata": {},
   "outputs": [
    {
     "name": "stdout",
     "output_type": "stream",
     "text": [
      "           SNo ObservationDate Province/State Country/Region  \\\n",
      "179328  179329      12/14/2020      Recovered             US   \n",
      "178565  178566      12/13/2020      Recovered             US   \n",
      "177802  177803      12/12/2020      Recovered             US   \n",
      "177039  177040      12/11/2020      Recovered             US   \n",
      "176276  176277      12/10/2020      Recovered             US   \n",
      "...        ...             ...            ...            ...   \n",
      "169485  169486      12/01/2020          Texas             US   \n",
      "306428  306429      05/29/2021   Zuid-Holland    Netherlands   \n",
      "141534  141535      10/25/2020        Unknown       Colombia   \n",
      "118363  118364      09/24/2020        Unknown       Colombia   \n",
      "145277  145278      10/30/2020        Unknown       Colombia   \n",
      "\n",
      "                Last Update  Confirmed   Deaths  Recovered  \n",
      "179328  2021-04-02 15:13:53        0.0      0.0  6399531.0  \n",
      "178565  2021-04-02 15:13:53        0.0      0.0  6298082.0  \n",
      "177802  2021-04-02 15:13:53        0.0      0.0  6246605.0  \n",
      "177039  2021-04-02 15:13:53        0.0      0.0  6135314.0  \n",
      "176276  2021-04-02 15:13:53        0.0      0.0  5985047.0  \n",
      "...                     ...        ...      ...        ...  \n",
      "169485  2021-04-02 15:13:53  1306735.0  22473.0        0.0  \n",
      "306428  2021-05-30 04:20:55   391559.0   4252.0        0.0  \n",
      "141534  2021-04-02 15:13:53        0.0   -154.0    -8072.0  \n",
      "118363  2021-04-02 15:13:53        0.0   -178.0   -12684.0  \n",
      "145277  2021-04-02 15:13:53        0.0    505.0  -854405.0  \n",
      "\n",
      "[306429 rows x 8 columns]\n"
     ]
    }
   ],
   "source": [
    "df_sorted_recovered = df.sort_values(by=['Recovered'], ascending=False)\n",
    "print(df_sorted_recovered)"
   ]
  },
  {
   "cell_type": "code",
   "execution_count": null,
   "id": "7b86253b-7ed8-4ec7-9066-084b3350467d",
   "metadata": {},
   "outputs": [],
   "source": []
  }
 ],
 "metadata": {
  "kernelspec": {
   "display_name": "Python 3 (ipykernel)",
   "language": "python",
   "name": "python3"
  },
  "language_info": {
   "codemirror_mode": {
    "name": "ipython",
    "version": 3
   },
   "file_extension": ".py",
   "mimetype": "text/x-python",
   "name": "python",
   "nbconvert_exporter": "python",
   "pygments_lexer": "ipython3",
   "version": "3.12.4"
  }
 },
 "nbformat": 4,
 "nbformat_minor": 5
}
